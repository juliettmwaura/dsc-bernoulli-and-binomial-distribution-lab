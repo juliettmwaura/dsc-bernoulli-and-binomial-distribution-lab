{
 "cells": [
  {
   "cell_type": "markdown",
   "metadata": {},
   "source": [
    "# Bernoulli and Binomial Distribution - Lab\n",
    "\n",
    "## Introduction\n",
    "In this lab, you'll practice your newly gained knowledge on the Bernoulli and Binomial Distribution.\n",
    "\n",
    "## Objectives\n",
    "You will be able to:\n",
    "\n",
    "* Apply the formulas for the Binomial and Bernoulli distribution to calculate the probability of a specific event\n",
    "* Use `numpy` to randomly generate Binomial and Bernoulli trials\n",
    "* Use `matplotlib` to show the output of generated Binomial and Bernoulli trials\n",
    "\n",
    "## Apply the formulas for the Binomial and Bernoulli distributions\n",
    "\n",
    "When playing a game of bowling, what is the probability of throwing exactly 3 strikes in a game with 10 rounds? Assume that the probability of throwing a strike is 25% for each round. Use the formula for the Binomial distribution to get to the answer. You've created this before, so we provide you with the function for factorials again:"
   ]
  },
  {
   "cell_type": "code",
   "execution_count": 1,
   "metadata": {},
   "outputs": [],
   "source": [
    "def factorial(n):\n",
    "    prod = 1\n",
    "    while n >= 1:\n",
    "        prod = prod * n\n",
    "        n = n - 1\n",
    "    return prod\n",
    "\n",
    "n = 10  # total number of rounds\n",
    "k = 3   # number of strikes\n",
    "p = 0.25  # probability of throwing a strike\n",
    "\n",
    "def binomial_coefficient(n, k):\n",
    "    return factorial(n) // (factorial(k) * factorial(n - k))"
   ]
  },
  {
   "cell_type": "code",
   "execution_count": 4,
   "metadata": {},
   "outputs": [
    {
     "data": {
      "text/plain": [
       "0.25028228759765625"
      ]
     },
     "execution_count": 4,
     "metadata": {},
     "output_type": "execute_result"
    }
   ],
   "source": [
    "# Calculate the probability using the Binomial distribution formula\n",
    "binomial_coef = binomial_coefficient(n, k)\n",
    "probability = binomial_coef * (p ** k) * ((1 - p) ** (n - k))\n",
    "\n",
    "# Assign the result to p_3_strikes\n",
    "p_3_strikes = probability\n",
    "p_3_strikes\n",
    " #answer = 0.2502822"
   ]
  },
  {
   "cell_type": "markdown",
   "metadata": {},
   "source": [
    "Now, create a function for the Binomial distribution with three arguments $n$, $p$ and $k$ just like in the formula:\n",
    "\n",
    "$$ \\large P(Y=k)= \\binom{n}{k} p^k(1-p)^{(n-k)}$$ \n"
   ]
  },
  {
   "cell_type": "code",
   "execution_count": 5,
   "metadata": {},
   "outputs": [
    {
     "data": {
      "text/plain": [
       "0.25028228759765625"
      ]
     },
     "execution_count": 5,
     "metadata": {},
     "output_type": "execute_result"
    }
   ],
   "source": [
    "def binom_distr(n, p, k):\n",
    "    \"\"\"\n",
    "    Compute the probability of exactly k successes in n trials \n",
    "    with probability p of success in each trial (Binomial distribution).\n",
    "    \"\"\"\n",
    "    binomial_coef = binomial_coefficient(n, k)\n",
    "    probability = binomial_coef * (p ** k) * ((1 - p) ** (n - k))\n",
    "    return probability\n",
    "\n",
    "p_3_strikes = binom_distr(n, p, k)\n",
    "p_3_strikes"
   ]
  },
  {
   "cell_type": "markdown",
   "metadata": {},
   "source": [
    "Validate your previous result by applying your new function."
   ]
  },
  {
   "cell_type": "code",
   "execution_count": 6,
   "metadata": {},
   "outputs": [
    {
     "name": "stdout",
     "output_type": "stream",
     "text": [
      "The probability of exactly 3 strikes in 10 rounds is: 0.2503\n"
     ]
    }
   ],
   "source": [
    "# Your code here\n",
    "def factorial(n):\n",
    "    \"\"\"Compute the factorial of a number n.\"\"\"\n",
    "    prod = 1\n",
    "    while n >= 1:\n",
    "        prod *= n\n",
    "        n -= 1\n",
    "    return prod\n",
    "\n",
    "def binomial_coefficient(n, k):\n",
    "    \"\"\"Compute the binomial coefficient C(n, k) = n! / (k! * (n - k)!)\"\"\"\n",
    "    return factorial(n) // (factorial(k) * factorial(n - k))\n",
    "\n",
    "def binom_distr(n, p, k):\n",
    "    \"\"\"\n",
    "    Compute the probability of exactly k successes in n trials \n",
    "    with probability p of success in each trial (Binomial distribution).\n",
    "    \"\"\"\n",
    "    binomial_coef = binomial_coefficient(n, k)\n",
    "    probability = binomial_coef * (p ** k) * ((1 - p) ** (n - k))\n",
    "    return probability\n",
    "\n",
    "# Parameters\n",
    "n = 10  # total number of rounds\n",
    "p = 0.25  # probability of throwing a strike\n",
    "k = 3   # number of strikes\n",
    "\n",
    "# Calculate the probability using the binomial distribution function\n",
    "p_3_strikes = binom_distr(n, p, k)\n",
    "\n",
    "print(f\"The probability of exactly {k} strikes in {n} rounds is: {p_3_strikes:.4f}\")\n"
   ]
  },
  {
   "cell_type": "markdown",
   "metadata": {},
   "source": [
    "Now write a `for` loop along with your function to compute the probability that you have five strikes or more in one game. You'll want to use `numpy` here!"
   ]
  },
  {
   "cell_type": "code",
   "execution_count": 7,
   "metadata": {},
   "outputs": [
    {
     "name": "stdout",
     "output_type": "stream",
     "text": [
      "The probability of having 5 strikes or more in one game is: 0.0781\n"
     ]
    }
   ],
   "source": [
    "# Your code here\n",
    "import numpy as np\n",
    "\n",
    "def factorial(n):\n",
    "    \"\"\"Compute the factorial of a number n.\"\"\"\n",
    "    prod = 1\n",
    "    while n >= 1:\n",
    "        prod *= n\n",
    "        n -= 1\n",
    "    return prod\n",
    "\n",
    "def binomial_coefficient(n, k):\n",
    "    \"\"\"Compute the binomial coefficient C(n, k) = n! / (k! * (n - k)!)\"\"\"\n",
    "    return factorial(n) // (factorial(k) * factorial(n - k))\n",
    "\n",
    "def binom_distr(n, p, k):\n",
    "    \"\"\"\n",
    "    Compute the probability of exactly k successes in n trials \n",
    "    with probability p of success in each trial (Binomial distribution).\n",
    "    \"\"\"\n",
    "    binomial_coef = binomial_coefficient(n, k)\n",
    "    probability = binomial_coef * (p ** k) * ((1 - p) ** (n - k))\n",
    "    return probability\n",
    "\n",
    "# Parameters\n",
    "n = 10  # total number of rounds\n",
    "p = 0.25  # probability of throwing a strike\n",
    "\n",
    "# Initialize total probability\n",
    "total_probability = 0\n",
    "\n",
    "# Calculate the probability for 5 strikes or more\n",
    "for k in range(5, n + 1):\n",
    "    total_probability += binom_distr(n, p, k)\n",
    "\n",
    "print(f\"The probability of having 5 strikes or more in one game is: {total_probability:.4f}\")\n"
   ]
  },
  {
   "cell_type": "markdown",
   "metadata": {},
   "source": [
    "## Use a simulation to get the probabilities for all the potential outcomes\n",
    "\n",
    "Repeat the experiment 5000 times."
   ]
  },
  {
   "cell_type": "code",
   "execution_count": 9,
   "metadata": {},
   "outputs": [
    {
     "name": "stdout",
     "output_type": "stream",
     "text": [
      "[ 0  1  2  3  4  5  6  7  8  9 10]\n",
      "[ 310  941 1368 1286  707  297   78   11    2    0    0]\n"
     ]
    }
   ],
   "source": [
    "# leave the random seed here for reproducibility of results\n",
    "np.random.seed(123)\n",
    "#\n",
    "def simulate_bowling_game(n_simulations, n_rounds, p_strike):\n",
    "    strikes_counts = np.zeros(n_simulations, dtype=int)\n",
    "    \n",
    "    for i in range(n_simulations):\n",
    "        # Simulate strikes for n_rounds with probability p_strike\n",
    "        strikes = np.random.binomial(n_rounds, p_strike)\n",
    "        strikes_counts[i] = strikes\n",
    "    \n",
    "    return strikes_counts\n",
    "\n",
    "# Parameters\n",
    "n_simulations = 5000\n",
    "n_rounds = 10\n",
    "p_strike = 0.25\n",
    "\n",
    "# Simulate the bowling game\n",
    "strikes_counts = simulate_bowling_game(n_simulations, n_rounds, p_strike)\n",
    "\n",
    "# Calculate frequencies for each number of strikes (from 0 to n_rounds)\n",
    "freq, strikes = np.histogram(strikes_counts, bins=np.arange(n_rounds + 2))\n",
    "\n",
    "    \n",
    "print(strikes[:-1])\n",
    "print(freq)\n"
   ]
  },
  {
   "cell_type": "code",
   "execution_count": null,
   "metadata": {},
   "outputs": [],
   "source": [
    "# the results should look like this:\n",
    "# [0 1 2 3 4 5 6 7 8]\n",
    "# [ 310  941 1368 1286  707  297   78   11    2]"
   ]
  },
  {
   "cell_type": "markdown",
   "metadata": {},
   "source": [
    "## Visualize these results\n",
    "\n",
    "Create the PMF using these empirical results (that is, the proportions based on the values we obtained running the experiment 5000 times)."
   ]
  },
  {
   "cell_type": "code",
   "execution_count": 10,
   "metadata": {},
   "outputs": [
    {
     "data": {
      "image/png": "[encoded data removed]",
      "text/plain": [
       "<Figure size 576x432 with 1 Axes>"
      ]
     },
     "metadata": {
      "needs_background": "light"
     },
     "output_type": "display_data"
    }
   ],
   "source": [
    "import matplotlib.pyplot as plt\n",
    "%matplotlib inline\n",
    "#\n",
    "#\n",
    "\n",
    "# Calculate proportions (PMF)\n",
    "proportions = freq / n_simulations\n",
    "\n",
    "# Plot PMF\n",
    "plt.figure(figsize=(8, 6))\n",
    "plt.bar(strikes[:-1], proportions, width=0.8, align='center', alpha=0.7)\n",
    "plt.xticks(strikes[:-1])\n",
    "plt.xlabel('Number of Strikes')\n",
    "plt.ylabel('Probability')\n",
    "plt.title('Probability Mass Function (PMF) of Strikes in Bowling Game')\n",
    "plt.grid(True)\n",
    "plt.show()"
   ]
  },
  {
   "cell_type": "markdown",
   "metadata": {},
   "source": [
    "You should see that, with a 25% strike hit rate, even when simulating 5000 times, an almost perfect and/or perfect game of 9 and 10 strikes didn't even occur once! If you change the random seed, however, you'll see that perfect games will show up occasionally. \n",
    "\n",
    "Next, let's create the CDF based on these results. You can use `np.cumsum` to obtain cumulative probabilities."
   ]
  },
  {
   "cell_type": "code",
   "execution_count": 11,
   "metadata": {},
   "outputs": [
    {
     "data": {
      "image/png": "[encoded data removed]",
      "text/plain": [
       "<Figure size 576x432 with 1 Axes>"
      ]
     },
     "metadata": {
      "needs_background": "light"
     },
     "output_type": "display_data"
    }
   ],
   "source": [
    "# Your code here\n",
    "#\n",
    "#\n",
    "# Calculate cumulative probabilities (CDF)\n",
    "cumulative_probabilities = np.cumsum(proportions)\n",
    "\n",
    "# Plot CDF\n",
    "plt.figure(figsize=(8, 6))\n",
    "plt.step(strikes[:-1], cumulative_probabilities, where='post')\n",
    "plt.xlabel('Number of Strikes')\n",
    "plt.ylabel('Cumulative Probability')\n",
    "plt.title('Cumulative Distribution Function (CDF) of Strikes in Bowling Game')\n",
    "plt.xticks(strikes[:-1])\n",
    "plt.yticks(np.arange(0, 1.1, 0.1))\n",
    "plt.grid(True)\n",
    "plt.show()\n"
   ]
  },
  {
   "cell_type": "markdown",
   "metadata": {},
   "source": [
    "## Summary\n",
    "\n",
    "Congratulations! In this lab, you practiced your newly gained knowledge of the Bernoulli and Binomial Distribution."
   ]
  }
 ],
 "metadata": {
  "kernelspec": {
   "display_name": "Python 3",
   "language": "python",
   "name": "python3"
  },
  "language_info": {
   "codemirror_mode": {
    "name": "ipython",
    "version": 3
   },
   "file_extension": ".py",
   "mimetype": "text/x-python",
   "name": "python",
   "nbconvert_exporter": "python",
   "pygments_lexer": "ipython3",
   "version": "3.8.5"
  },
  "toc": {
   "base_numbering": 1,
   "nav_menu": {},
   "number_sections": true,
   "sideBar": true,
   "skip_h1_title": false,
   "title_cell": "Table of Contents",
   "title_sidebar": "Contents",
   "toc_cell": false,
   "toc_position": {},
   "toc_section_display": true,
   "toc_window_display": false
  }
 },
 "nbformat": 4,
 "nbformat_minor": 2
}
